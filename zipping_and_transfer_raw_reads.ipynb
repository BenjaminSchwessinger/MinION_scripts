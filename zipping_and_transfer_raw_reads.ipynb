{
 "cells": [
  {
   "cell_type": "markdown",
   "metadata": {},
   "source": [
    "This is a draft version to get the MinION reads zipped up a certain way and moved over to a specific HPC for basecalling.\n",
    "\n",
    "Idea is to point the program towards the reads directory of MinKNOW, zip them up and move them over to a server"
   ]
  },
  {
   "cell_type": "code",
   "execution_count": 1,
   "metadata": {
    "collapsed": false
   },
   "outputs": [],
   "source": [
    "#for now name the initial BASEFOLDER, BACKUPFOLDER, NUMBEROFFOLDERS, SEQUENCINGRUN, RTARGETFOLDER\n",
    "#\n",
    "#later this will come from the config %%file\n",
    "BASEFOLDER = '/Users/ben/Documents/work_related/Canberra/Python_and_R_scripts/MinION'\n",
    "NUMBEROFFOLDERS = 1\n",
    "SEQUENCINGRUN = 'FLOWID'\n",
    "BACKUPFOLDER = '/Users/ben/Documents/work_related/Canberra/Python_and_R_scripts/MinION/backup'\n",
    "RTARGETFOLDER = 'bxs800@r-dm.nci.org.au:/short/xf3/bxs800/test'"
   ]
  },
  {
   "cell_type": "code",
   "execution_count": 2,
   "metadata": {
    "collapsed": false
   },
   "outputs": [],
   "source": [
    "import re\n",
    "import os\n",
    "import subprocess"
   ]
  },
  {
   "cell_type": "code",
   "execution_count": 3,
   "metadata": {
    "collapsed": false
   },
   "outputs": [],
   "source": [
    "#now check if basefolder is there\n",
    "if not os.path.exists(BASEFOLDER):\n",
    "    print('Check basefolder')\n",
    "    exit\n",
    "if not os.path.exists(BACKUPFOLDER):\n",
    "    print('Backup folder %s does not exist. Creating it.' %BACKUPFOLDER)\n",
    "    os.mkdir(BACKUPFOLDER)"
   ]
  },
  {
   "cell_type": "code",
   "execution_count": 4,
   "metadata": {
    "collapsed": false
   },
   "outputs": [],
   "source": [
    "#get all the the folders witht the SEQUENCINGRUN ID in the basefolder\n",
    "_id = re.compile(SEQUENCINGRUN, re.IGNORECASE)"
   ]
  },
  {
   "cell_type": "code",
   "execution_count": 5,
   "metadata": {
    "collapsed": false
   },
   "outputs": [],
   "source": [
    "#now get all the folders belonging to this sequencing %run\n",
    "read_folder_list = [os.path.join(BASEFOLDER, x) for x in os.listdir(BASEFOLDER)]\n",
    "flowcellfolder = [x for x in read_folder_list if _id.search(x) != None]"
   ]
  },
  {
   "cell_type": "code",
   "execution_count": 6,
   "metadata": {
    "collapsed": false
   },
   "outputs": [],
   "source": [
    "#now check if in the target folder is fast5 folder\n",
    "def check_fast5(x):\n",
    "    if not os.path.exists(os.path.join(x, 'fast5')):\n",
    "        return False\n",
    "    elif not os.path.isdir(os.path.join(x, 'fast5')):\n",
    "        return False\n",
    "    else:\n",
    "        fast5path = os.path.join(x, 'fast5')\n",
    "        #now check if the first folder contains fast5 files\n",
    "        subfolders = [os.path.join(fast5path, x) for x in os.listdir(fast5path)]\n",
    "        if len(subfolders) == 0:\n",
    "            return False\n",
    "        else:\n",
    "            content = [x for x in os.listdir(subfolders[0]) if x.endswith('.fast5')]\n",
    "            if len(content) == 0:\n",
    "                return False\n",
    "            else:\n",
    "                print(content)\n",
    "                return True"
   ]
  },
  {
   "cell_type": "code",
   "execution_count": 13,
   "metadata": {
    "collapsed": true
   },
   "outputs": [],
   "source": [
    "def tar_zip(fast5_folder,backupfolder, start, end):\n",
    "    command_list = []\n",
    "    tar_command = 'tar -czf'\n",
    "    command_list.append(tar_command)\n",
    "    folder = fast5_folder.split('/')[-2]\n",
    "    target = os.path.join(backupfolder,'%s_%s_%s.tar.gz' % (folder, start, end))\n",
    "    command_list.append(target)\n",
    "    tar_input = '%s/{%s..%s}'%(fast5_folder, start, end)\n",
    "    command_list.append(tar_input)\n",
    "    comand = ' '.join(command_list)\n",
    "    print(comand)\n",
    "    #here add in the subprocess\n",
    "    return comand"
   ]
  },
  {
   "cell_type": "code",
   "execution_count": 14,
   "metadata": {
    "collapsed": false
   },
   "outputs": [],
   "source": [
    "def zip_and_backup(x, number, backupfolder):\n",
    "    fast5path = os.path.join(x, 'fast5')\n",
    "    #get the runs folder id\n",
    "    folder = x.split('/')[-1]\n",
    "    subfolders = [os.path.join(fast5path, x) for x in os.listdir(fast5path)]\n",
    "    #noffolders = len(subfolders)\n",
    "    noffolders = 300\n",
    "    print(\"We have %i of folders to zip up.\" % noffolders) \n",
    "    if noffolders <= number:\n",
    "        start = 0\n",
    "        end = noffolders - 1\n",
    "        tar_zip(fast5path,backupfolder, start, end)\n",
    "    elif noffolders > number:\n",
    "        if number == 1:\n",
    "            starts = [x for x in range(0, noffolders, number)]\n",
    "            ends = starts\n",
    "            start_end_zip = zip(starts, ends)\n",
    "            for x in start_end_zip:\n",
    "                start, end = x\n",
    "                tar_zip(fast5path,backupfolder, start, end)\n",
    "        else:\n",
    "            start = 0\n",
    "            while start < noffolders -number:\n",
    "                end = start + number -1\n",
    "                tar_zip(fast5path,backupfolder, start, end)\n",
    "                start = start + number\n",
    "            start = end + 1\n",
    "            end = noffolders -1\n",
    "            tar_zip(fast5path,backupfolder, start, end)\n",
    "\n",
    "        "
   ]
  },
  {
   "cell_type": "code",
   "execution_count": 15,
   "metadata": {
    "collapsed": false,
    "run_control": {
     "marked": true
    }
   },
   "outputs": [
    {
     "name": "stdout",
     "output_type": "stream",
     "text": [
      "False\n",
      "We have 300 of folders to zip up.\n",
      "tar -czf /Users/ben/Documents/work_related/Canberra/Python_and_R_scripts/MinION/backup/date_number_NAME_FLOWID_0_119.tar.gz /Users/ben/Documents/work_related/Canberra/Python_and_R_scripts/MinION/date_number_NAME_FLOWID/fast5/{0..119}\n",
      "tar -czf /Users/ben/Documents/work_related/Canberra/Python_and_R_scripts/MinION/backup/date_number_NAME_FLOWID_120_239.tar.gz /Users/ben/Documents/work_related/Canberra/Python_and_R_scripts/MinION/date_number_NAME_FLOWID/fast5/{120..239}\n",
      "tar -czf /Users/ben/Documents/work_related/Canberra/Python_and_R_scripts/MinION/backup/date_number_NAME_FLOWID_240_299.tar.gz /Users/ben/Documents/work_related/Canberra/Python_and_R_scripts/MinION/date_number_NAME_FLOWID/fast5/{240..299}\n"
     ]
    }
   ],
   "source": [
    "#now zip up all the folders\n",
    "for x in flowcellfolder:\n",
    "    print(check_fast5(x))\n",
    "    zip_and_backup(x, 120 ,  BACKUPFOLDER)"
   ]
  },
  {
   "cell_type": "code",
   "execution_count": 26,
   "metadata": {
    "collapsed": false
   },
   "outputs": [],
   "source": [
    "def scp_zip(file, destination):\n",
    "    command_list = []\n",
    "    command_list.append('scp ')\n",
    "    command_list.append('%s '%file)\n",
    "    command_list.append('%s'%destination)\n",
    "    command = ' '.join(command_list)\n",
    "    #here add subprocess\n",
    "    print(command)"
   ]
  },
  {
   "cell_type": "code",
   "execution_count": 27,
   "metadata": {
    "collapsed": false
   },
   "outputs": [],
   "source": [
    "for file in [os.path.join(BACKUPFOLDER, x) for x in BACKUPFOLDER if x.endswith('tar.gz')]:\n",
    "    print(file)\n",
    "    scp_zip(file, RTARGETFOLDER)"
   ]
  },
  {
   "cell_type": "code",
   "execution_count": 28,
   "metadata": {
    "collapsed": false
   },
   "outputs": [
    {
     "name": "stdout",
     "output_type": "stream",
     "text": [
      "/Users/ben/Documents/work_related/Canberra/Python_and_R_scripts/MinION/backup/agae.tar.gz\n",
      "scp  /Users/ben/Documents/work_related/Canberra/Python_and_R_scripts/MinION/backup/agae.tar.gz  bxs800@r-dm.nci.org.au:/short/xf3/bxs800/test\n"
     ]
    }
   ],
   "source": [
    "for file in [os.path.join(BACKUPFOLDER, x) for x in os.listdir(BACKUPFOLDER) if x.endswith('tar.gz')]:\n",
    "    print(file)\n",
    "    scp_zip(file, RTARGETFOLDER)"
   ]
  },
  {
   "cell_type": "code",
   "execution_count": null,
   "metadata": {
    "collapsed": true
   },
   "outputs": [],
   "source": []
  }
 ],
 "metadata": {
  "anaconda-cloud": {},
  "kernelspec": {
   "display_name": "Python [conda root]",
   "language": "python",
   "name": "conda-root-py"
  },
  "language_info": {
   "codemirror_mode": {
    "name": "ipython",
    "version": 3
   },
   "file_extension": ".py",
   "mimetype": "text/x-python",
   "name": "python",
   "nbconvert_exporter": "python",
   "pygments_lexer": "ipython3",
   "version": "3.5.2"
  }
 },
 "nbformat": 4,
 "nbformat_minor": 2
}
