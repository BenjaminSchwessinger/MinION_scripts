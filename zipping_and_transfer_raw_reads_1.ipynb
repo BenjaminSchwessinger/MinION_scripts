{
 "cells": [
  {
   "cell_type": "markdown",
   "metadata": {},
   "source": [
    "This is a draft version to get the MinION reads zipped up a certain way and moved over to a specific HPC for basecalling.\n",
    "\n",
    "Idea is to point the program towards the reads directory of MinKNOW, zip them up and move them over to a server"
   ]
  },
  {
   "cell_type": "code",
   "execution_count": 4,
   "metadata": {},
   "outputs": [],
   "source": [
    "#for now name the initial BASEFOLDER, BACKUPFOLDER, NUMBEROFFOLDERS, SEQUENCINGRUN, RTARGETFOLDER\n",
    "#\n",
    "#later this will come from the config %%file\n",
    "CONFIGFILE = '/mnt/d/Data/MinION_scripts/ZipTra.cfg'"
   ]
  },
  {
   "cell_type": "code",
   "execution_count": 5,
   "metadata": {},
   "outputs": [],
   "source": [
    "import re\n",
    "import os\n",
    "import subprocess\n",
    "import configparser \n",
    "import argparse\n",
    "import tarfile"
   ]
  },
  {
   "cell_type": "code",
   "execution_count": null,
   "metadata": {},
   "outputs": [],
   "source": [
    "parser = argparse.ArgumentParser(description=\"This is a script to get the MinION reads zipped up a certain way and moved over to a specific HPC for basecalling. Idea is to point the program towards the reads directory of MinKNOW, zip them up and move them over to a server\")"
   ]
  },
  {
   "cell_type": "code",
   "execution_count": null,
   "metadata": {},
   "outputs": [],
   "source": [
    "parser.add_argument(\"configfile\", help=\"provide the directory of a config file which contain all the informations. A sample was provided in the same pakage of this script.\")\n",
    "\n",
    "CONFIGFILE = args.configfile"
   ]
  },
  {
   "cell_type": "code",
   "execution_count": 6,
   "metadata": {},
   "outputs": [
    {
     "data": {
      "text/plain": [
       "['/mnt/d/Data/MinION_scripts/ZipTra.cfg']"
      ]
     },
     "execution_count": 6,
     "metadata": {},
     "output_type": "execute_result"
    }
   ],
   "source": [
    "Config = configparser.ConfigParser()\n",
    "Config.read(CONFIGFILE)"
   ]
  },
  {
   "cell_type": "code",
   "execution_count": 7,
   "metadata": {},
   "outputs": [],
   "source": [
    "def ConfigSectionMap(section):\n",
    "    dict1 = {}\n",
    "    options = Config.options(section)\n",
    "    for option in options:\n",
    "        try:\n",
    "            dict1[option] = Config.get(section, option)\n",
    "            if dict1[option] == -1:\n",
    "                DebugPrint(\"skip: %s\" % option)\n",
    "        except:\n",
    "            print(\"exception on %s!\" % option)\n",
    "            dict1[option] = None\n",
    "    return dict1"
   ]
  },
  {
   "cell_type": "code",
   "execution_count": 8,
   "metadata": {},
   "outputs": [],
   "source": [
    "DIRS = ConfigSectionMap('Directories')\n",
    "BACKUPFOLDER = DIRS['backupfolder']\n",
    "BASEFOLDER = DIRS['basefolder']\n",
    "RTARGETFOLDER = DIRS['rtargetfolder']"
   ]
  },
  {
   "cell_type": "code",
   "execution_count": 9,
   "metadata": {},
   "outputs": [],
   "source": [
    "SETUP = ConfigSectionMap('Zip settings')\n",
    "NUMBEROFFOLDERS = int(SETUP['numberoffolders'])\n",
    "SEQUENCINGRUN = SETUP['sequencingrun']"
   ]
  },
  {
   "cell_type": "code",
   "execution_count": 10,
   "metadata": {},
   "outputs": [],
   "source": [
    "#now check if basefolder is there\n",
    "if not os.path.exists(BASEFOLDER):\n",
    "    print('Check basefolder')\n",
    "    exit\n",
    "if not os.path.exists(BACKUPFOLDER):\n",
    "    print('Backup folder %s does not exist. Creating it.' %BACKUPFOLDER)\n",
    "    os.mkdir(BACKUPFOLDER)"
   ]
  },
  {
   "cell_type": "code",
   "execution_count": 11,
   "metadata": {},
   "outputs": [],
   "source": [
    "#get all the the folders witht the SEQUENCINGRUN ID in the basefolder\n",
    "_id = re.compile(SEQUENCINGRUN, re.IGNORECASE)"
   ]
  },
  {
   "cell_type": "code",
   "execution_count": 12,
   "metadata": {},
   "outputs": [],
   "source": [
    "#now get all the folders belonging to this sequencing %run\n",
    "read_folder_list = [os.path.join(BASEFOLDER, x) for x in os.listdir(BASEFOLDER)]\n",
    "flowcellfolder = [x for x in read_folder_list if _id.search(x) != None]"
   ]
  },
  {
   "cell_type": "code",
   "execution_count": 13,
   "metadata": {},
   "outputs": [],
   "source": [
    "#now check if in the target folder is fast5 folder\n",
    "def check_fast5(x):\n",
    "    if not os.path.exists(os.path.join(x, 'fast5')):\n",
    "        return False\n",
    "    elif not os.path.isdir(os.path.join(x, 'fast5')):\n",
    "        return False\n",
    "    else:\n",
    "        fast5path = os.path.join(x, 'fast5')\n",
    "        #now check if the first folder contains fast5 files\n",
    "        subfolders = [os.path.join(fast5path, x) for x in os.listdir(fast5path)]\n",
    "        if len(subfolders) == 0:\n",
    "            return False\n",
    "        else:\n",
    "            content = [x for x in os.listdir(subfolders[0]) if x.endswith('.fast5')]\n",
    "            if len(content) == 0:\n",
    "                return False\n",
    "            else:\n",
    "                #print(content)\n",
    "                return True"
   ]
  },
  {
   "cell_type": "code",
   "execution_count": 3,
   "metadata": {
    "collapsed": true
   },
   "outputs": [],
   "source": [
    "some = 'something'"
   ]
  },
  {
   "cell_type": "code",
   "execution_count": 13,
   "metadata": {},
   "outputs": [
    {
     "data": {
      "text/plain": [
       "'omething'"
      ]
     },
     "execution_count": 13,
     "metadata": {},
     "output_type": "execute_result"
    }
   ],
   "source": [
    "some[1:50000]"
   ]
  },
  {
   "cell_type": "code",
   "execution_count": 14,
   "metadata": {},
   "outputs": [],
   "source": [
    "def tar_zip(fast5_folder,backupfolder, start, end):\n",
    "    folder = fast5_folder.split('/')[-2]\n",
    "    tarfile_name = os.path.join(backupfolder,'%s_%s_%s.tar.gz' % \\\n",
    "                                (folder, start, end))\n",
    "    tar = tarfile.open(tarfile_name, \"w:gz\")\n",
    "    source_folders = [os.path.join(fast5_folder, x)\\\n",
    "                      for x in os.listdir(fast5_folder)]\n",
    "    source_folders = source_folders[start:end+1]\n",
    "    for source_folder in source_folders:\n",
    "        tar.add(source_folder)\n",
    "    tar.close()             \n",
    "    "
   ]
  },
  {
   "cell_type": "code",
   "execution_count": 15,
   "metadata": {},
   "outputs": [],
   "source": [
    "def zip_and_backup(x, number, backupfolder):\n",
    "    fast5path = os.path.join(x, 'fast5')\n",
    "    #get the runs folder id\n",
    "    folder = x.split('/')[-1]\n",
    "    subfolders = [os.path.join(fast5path, x) for x in os.listdir(fast5path)]\n",
    "    noffolders = len(subfolders)\n",
    "    #noffolders = 300\n",
    "    print(\"We have %i of folders to zip up.\" % noffolders) \n",
    "    if noffolders <= number:\n",
    "        start = 0\n",
    "        end = noffolders - 1\n",
    "        tar_zip(fast5path, backupfolder, start, end)\n",
    "    #elif noffolders > number:\n",
    "    #    if number == 1:\n",
    "    #        starts = [x for x in range(0, noffolders, number)]\n",
    "    #        ends = starts\n",
    "    #        start_end_zip = zip(starts, ends)\n",
    "    #        for x in start_end_zip:\n",
    "    #            start, end = x\n",
    "    #            tar_zip(fast5path,backupfolder, start, end)\n",
    "    else:\n",
    "        start = 0\n",
    "        while start < noffolders -number:\n",
    "            end = start + number -1\n",
    "            tar_zip(fast5path, backupfolder, start, end)\n",
    "            start = start + number\n",
    "        start = end + 1\n",
    "        end = noffolders -1\n",
    "        tar_zip(fast5path, backupfolder, start, end)\n",
    "\n",
    "        "
   ]
  },
  {
   "cell_type": "code",
   "execution_count": 16,
   "metadata": {
    "run_control": {
     "marked": true
    }
   },
   "outputs": [
    {
     "name": "stdout",
     "output_type": "stream",
     "text": [
      "We have 5 of folders to zip up.\n"
     ]
    }
   ],
   "source": [
    "#now zip up all the folders\n",
    "for x in flowcellfolder:\n",
    "    if check_fast5(x) == True:\n",
    "        zip_and_backup(x, NUMBEROFFOLDERS,  BACKUPFOLDER)\n",
    "    else:\n",
    "        print('%s does not contain any fast5 files in folder 0')"
   ]
  },
  {
   "cell_type": "code",
   "execution_count": 14,
   "metadata": {},
   "outputs": [
    {
     "data": {
      "text/plain": [
       "'/mnt/d/Data/reads/workspace/20171221_1103_20171221_FAH34985/fast5'"
      ]
     },
     "execution_count": 14,
     "metadata": {},
     "output_type": "execute_result"
    }
   ],
   "source": [
    "os.getcwd()"
   ]
  },
  {
   "cell_type": "code",
   "execution_count": null,
   "metadata": {},
   "outputs": [],
   "source": [
    "def scp_zip(file, destination):\n",
    "    command_list = []\n",
    "    command_list.append('scp ')\n",
    "    command_list.append('%s '%file)\n",
    "    command_list.append('%s'%destination)\n",
    "    command = ' '.join(command_list)\n",
    "    #here add subprocess\n",
    "    print(command)\n",
    "    command_stderr = subprocess.check_output(command, shell=True, stderr=subprocess.STDOUT)"
   ]
  },
  {
   "cell_type": "code",
   "execution_count": null,
   "metadata": {},
   "outputs": [],
   "source": [
    "for file in [os.path.join(BACKUPFOLDER, x) for x in BACKUPFOLDER if x.endswith('tar.gz')]:\n",
    "    print(file)\n",
    "    scp_zip(file, RTARGETFOLDER)"
   ]
  },
  {
   "cell_type": "code",
   "execution_count": null,
   "metadata": {},
   "outputs": [],
   "source": [
    "for file in [os.path.join(BACKUPFOLDER, x) for x in os.listdir(BACKUPFOLDER) if x.endswith('tar.gz')]:\n",
    "    print(file)\n",
    "    scp_zip(file, RTARGETFOLDER)"
   ]
  },
  {
   "cell_type": "code",
   "execution_count": null,
   "metadata": {},
   "outputs": [],
   "source": []
  }
 ],
 "metadata": {
  "anaconda-cloud": {},
  "kernelspec": {
   "display_name": "Python 3",
   "language": "python",
   "name": "python3"
  },
  "language_info": {
   "codemirror_mode": {
    "name": "ipython",
    "version": 3
   },
   "file_extension": ".py",
   "mimetype": "text/x-python",
   "name": "python",
   "nbconvert_exporter": "python",
   "pygments_lexer": "ipython3",
   "version": "3.6.1"
  }
 },
 "nbformat": 4,
 "nbformat_minor": 2
}
